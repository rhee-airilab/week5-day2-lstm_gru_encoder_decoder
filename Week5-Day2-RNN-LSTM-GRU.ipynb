{
 "cells": [
  {
   "cell_type": "markdown",
   "metadata": {},
   "source": [
    "# RNN 실습 - 텐서플로우에서 LSTM 및 GRU 사용\n",
    "\n",
    "1. RNN 모형 및 구성방법\n",
    "1. 텐서플로우에서 지원하는 RNN 'Cell' 유형\n",
    "1. 유형별 특성 테스트 위한 코드 구성\n",
    "1. Test #1 - Vanila RNN\n",
    "1. Test #2 - Basic LSTM\n",
    "1. Test #3 - GRU\n",
    "1. Test #4 - LSTMCell + forget_bias\n",
    "1. Test #5 - LayerNormBasicLSTMCell\n",
    "1. Test #6 - LayerNormBasicLSTMCell - what's wrong?\n",
    "1. 정리"
   ]
  },
  {
   "cell_type": "code",
   "execution_count": 1,
   "metadata": {
    "ExecuteTime": {
     "end_time": "2017-10-11T01:43:57.202446Z",
     "start_time": "2017-10-11T01:43:56.811899Z"
    },
    "collapsed": true
   },
   "outputs": [],
   "source": [
    "!rm -fr logdir\n",
    "!mkdir -p logdir"
   ]
  },
  {
   "cell_type": "code",
   "execution_count": 2,
   "metadata": {
    "ExecuteTime": {
     "end_time": "2017-10-11T01:43:57.935206Z",
     "start_time": "2017-10-11T01:43:57.203836Z"
    }
   },
   "outputs": [
    {
     "data": {
      "text/html": [
       "<style>\n",
       "@media print {\n",
       "  a[href]:after {\n",
       "    content: none !important;\n",
       "  }\n",
       "}\n",
       "</style>"
      ],
      "text/plain": [
       "<IPython.core.display.HTML object>"
      ]
     },
     "metadata": {},
     "output_type": "display_data"
    }
   ],
   "source": [
    "%load_ext do_not_print_href\n",
    "%matplotlib inline\n",
    "from __future__ import print_function, division\n",
    "import sys\n",
    "import time\n",
    "import numpy as np\n",
    "import tensorflow as tf\n",
    "import matplotlib.pyplot as plt"
   ]
  },
  {
   "cell_type": "markdown",
   "metadata": {},
   "source": [
    "## RNN 모형 (복습)\n",
    "\n",
    "\n",
    "<img  src=\"rnn.jpg\" style=\"width:55.5rem\"/>\n",
    "\n",
    "<center>이미지 출처: http://www.wildml.com/2015/09/recurrent-neural-networks-tutorial-part-1-introduction-to-rnns/</center>\n",
    "\n",
    "\\begin{align}\n",
    "s_t & = tanh(Ux_t + Ws_{t-1}) \\\\\n",
    "o_t & = softmax(Vs_t) \\\\\n",
    "\\end{align}\n",
    "\n",
    "\n",
    "### 하지만 텐서플로우 RNN 은...\n",
    "\n",
    "<img  src=\"Selection_20170914_161757_e791.png\"/>\n",
    "\n",
    "\n",
    "- **_V_** 에 해당하는 구조가 없음\n",
    "\n",
    "- **_softmax()_** 도 없음\n",
    "\n",
    "- **_V_** 와 **_softmax()_** 는 필요할 때만 만들어서 붙이면 됨 ( `tf.layers.dense`, `tf.nn.softmax` )\n",
    "\n"
   ]
  },
  {
   "cell_type": "markdown",
   "metadata": {},
   "source": [
    "## RNN 모델 구성 (복습)\n",
    "\n",
    "- [`tf.contrib.rnn.BasicRNNCell`](http://devdocs.io/tensorflow~python/tf/contrib/rnn/basicrnncell)\n",
    "\n",
    "<code>\n",
    "  `__init__`(\n",
    "    <span style=\"color:red\">num_units,</span>\n",
    "    activation=None,\n",
    "    reuse=None\n",
    "  )\n",
    "</code>\n",
    "\n",
    "\n",
    "- [`tf.nn.dynamic_rnn`](http://devdocs.io/tensorflow~python/tf/nn/dynamic_rnn)\n",
    "\n",
    "<code>\n",
    "  dynamic_rnn(\n",
    "    <span style=\"color:red\">cell,</span>\n",
    "    <span style=\"color:red\">inputs,</span>\n",
    "    <span style=\"color:red\">sequence_length=None,</span>\n",
    "    initial_state=None,\n",
    "    dtype=None,\n",
    "    parallel_iterations=None,\n",
    "    swap_memory=False,\n",
    "    time_major=False,\n",
    "    scope=None\n",
    "  )\n",
    "</code>\n",
    "\n",
    "\n",
    "- RNN 구성\n",
    "\n",
    "\n",
    "<code>\n",
    "    cell            = tf.contrib.rnn.<b style=\"color:red\">BasicRNNCell</b>(\n",
    "                        num_hidden_units)\n",
    "    last, states    = tf.nn.dynamic_rnn(\n",
    "                        cell, \n",
    "                        inputs, \n",
    "                        <i style=\"color:red\">sequence_length=sequence_length,</i>\n",
    "                        dtype=tf.float32)\n",
    "</code>\n",
    "\n"
   ]
  },
  {
   "cell_type": "markdown",
   "metadata": {},
   "source": [
    "## RNN Cell 종류\n",
    "\n",
    "- [`tf.contrib.rnn.BasicRNNCell`](http://devdocs.io/tensorflow~python/tf/contrib/rnn/basicrnncell)\n",
    "\n",
    "<code>\n",
    "    ...\n",
    "</code>\n",
    "\n",
    "- [`tf.contrib.rnn.BasicLSTMCell`](http://devdocs.io/tensorflow~python/tf/contrib/rnn/basiclstmcell)\n",
    "\n",
    "<code>\n",
    "    `__init__`(\n",
    "        <span style=\"color:red\">num_units,</span>\n",
    "        forget_bias=1.0,\n",
    "        state_is_tuple=True,\n",
    "        activation=None,\n",
    "        reuse=None\n",
    "    )\n",
    "</code>\n",
    "\n",
    "- [`tf.contrib.rnn.LSTMCell`](http://devdocs.io/tensorflow~python/tf/contrib/rnn/lstmcell)\n",
    "\n",
    "<code>\n",
    "    `__init__`(\n",
    "        <span style=\"color:red\">num_units,</span>\n",
    "        use_peepholes=False,\n",
    "        cell_clip=None,\n",
    "        initializer=None,\n",
    "        num_proj=None,\n",
    "        proj_clip=None,\n",
    "        num_unit_shards=None,\n",
    "        num_proj_shards=None,\n",
    "        forget_bias=1.0,\n",
    "        state_is_tuple=True,\n",
    "        activation=None,\n",
    "        reuse=None\n",
    "    )\n",
    "</code>\n",
    "\n",
    "- [`tf.contrib.rnn.GRUCell`](http://devdocs.io/tensorflow~python/tf/contrib/rnn/grucell)\n",
    "\n",
    "<code>\n",
    "    `__init__`(\n",
    "        <span style=\"color:red\">num_units,</span>\n",
    "        activation=None,\n",
    "        reuse=None,\n",
    "        kernel_initializer=None,\n",
    "        bias_initializer=None\n",
    "    )\n",
    "</code>\n",
    "\n",
    "- [`tf.contrib.rnn.LayerNormBasicLSTMCell`](http://devdocs.io/tensorflow~python/tf/contrib/rnn/layernormbasiclstmcell)\n",
    "\n",
    "> LSTM unit with **layer normalization** and **recurrent dropout.**\n",
    "\n",
    "<code>\n",
    "    `__init__`(\n",
    "        <span style=\"color:red\">num_units,</span>\n",
    "        forget_bias=1.0,\n",
    "        input_size=None,\n",
    "        activation=tf.tanh,\n",
    "        layer_norm=True,\n",
    "        norm_gain=1.0,\n",
    "        norm_shift=0.0,\n",
    "        dropout_keep_prob=1.0,\n",
    "        dropout_prob_seed=None,\n",
    "        reuse=None\n",
    "    )\n",
    "</code>\n",
    "\n",
    "- 기타 여러가지 Wrapper 지원 - https://www.tensorflow.org/api_guides/python/contrib.rnn"
   ]
  },
  {
   "cell_type": "code",
   "execution_count": 3,
   "metadata": {
    "ExecuteTime": {
     "end_time": "2017-10-11T01:43:59.079225Z",
     "start_time": "2017-10-11T01:43:57.937869Z"
    }
   },
   "outputs": [
    {
     "name": "stdout",
     "output_type": "stream",
     "text": [
      "Extracting ./mnist/train-images-idx3-ubyte.gz\n",
      "Extracting ./mnist/train-labels-idx1-ubyte.gz\n",
      "Extracting ./mnist/t10k-images-idx3-ubyte.gz\n",
      "Extracting ./mnist/t10k-labels-idx1-ubyte.gz\n"
     ]
    }
   ],
   "source": [
    "from tensorflow.examples.tutorials.mnist.input_data \\\n",
    "    import read_data_sets\n",
    "\n",
    "mnist = read_data_sets('./mnist', one_hot=False)"
   ]
  },
  {
   "cell_type": "code",
   "execution_count": 4,
   "metadata": {
    "ExecuteTime": {
     "end_time": "2017-10-11T01:43:59.086161Z",
     "start_time": "2017-10-11T01:43:59.080664Z"
    },
    "collapsed": true
   },
   "outputs": [],
   "source": [
    "INPUT_UNITS = 28\n",
    "NUM_HIDDEN_UNITS = 31\n",
    "\n",
    "BATCH_SIZE = 128\n",
    "MAX_SEQ_LEN = 28"
   ]
  },
  {
   "cell_type": "code",
   "execution_count": 5,
   "metadata": {
    "ExecuteTime": {
     "end_time": "2017-10-11T01:43:59.111637Z",
     "start_time": "2017-10-11T01:43:59.088116Z"
    },
    "collapsed": true
   },
   "outputs": [],
   "source": [
    "class MnistRnn:\n",
    "    def __init__(self, \n",
    "                 inputs, \n",
    "                 labels, \n",
    "                 input_units, \n",
    "                 num_hidden_units, \n",
    "                 batch_size, \n",
    "                 max_seq_len,\n",
    "                 rnn_cell_class = tf.contrib.rnn.BasicRNNCell,\n",
    "                 # 여기 이후의 인수는 잠깐 무시 해 주세요\n",
    "                 add_check = False,\n",
    "                 lr = 0.001,\n",
    "                 use_grad_clip = False):\n",
    "        '''\n",
    "        inputs: in shape [batch_size, max_seq_len, input_size]\n",
    "        labels: in shape [batch_size]\n",
    "        '''\n",
    "\n",
    "        cell            = rnn_cell_class(num_hidden_units)\n",
    "        sequence_length = [max_seq_len] * batch_size\n",
    "        last, states    = tf.nn.dynamic_rnn(\n",
    "                            cell, \n",
    "                            inputs, \n",
    "                            sequence_length=sequence_length, \n",
    "                            dtype=tf.float32)\n",
    "\n",
    "        # max_seq_len 축으로 0~27 까지 값 중에 \n",
    "        # 0~26 때의 출력 값은 사용하지 않음\n",
    "        rnn_output = last[:,max_seq_len-1,:]\n",
    "        # outputs shape will be: [batch_size, 10]\n",
    "        outputs    = tf.layers.dense(rnn_output, 10)\n",
    "        loss       = tf.losses.sparse_softmax_cross_entropy(\n",
    "                        labels, outputs)\n",
    "        \n",
    "        if use_grad_clip:\n",
    "            tvars_     = tf.trainable_variables()\n",
    "            grads_, _  = tf.clip_by_global_norm(\n",
    "                            tf.gradients(\n",
    "                                loss,\n",
    "                                tvars_),\n",
    "                            5.0)\n",
    "            optimize   = \\\n",
    "                tf.train.AdamOptimizer(learning_rate=lr). \\\n",
    "                            apply_gradients(zip(grads_, tvars_))\n",
    "        else:\n",
    "            optimize   = \\\n",
    "                tf.train.AdamOptimizer(learning_rate=lr). \\\n",
    "                            minimize(loss)\n",
    "\n",
    "        # accuracy\n",
    "        preds    = tf.argmax(outputs, axis=1)\n",
    "        errors   = tf.count_nonzero(labels - preds)\n",
    "        accuracy = 1.0 - tf.cast(errors,tf.float32) / \\\n",
    "                         tf.cast(tf.size(preds),tf.float32)\n",
    "\n",
    "        # 클래스 객체 외부에서 참고할 수 있도록 속성으로 저장\n",
    "        self.outputs        = outputs\n",
    "        self.loss           = loss\n",
    "        self.optimize       = optimize\n",
    "        self.accuracy       = accuracy\n",
    "        \n",
    "        # check_numerics\n",
    "        self.check = [tf.check_numerics(\n",
    "                        t,\n",
    "                        'check_numerics: {}'.format(t.name)) \\\n",
    "                      for t in tf.gradients(\n",
    "                                  loss,\n",
    "                                  tf.trainable_variables()) \\\n",
    "                      if t is not None] \\\n",
    "                     if add_check \\\n",
    "                     else tf.constant(1.0)"
   ]
  },
  {
   "cell_type": "code",
   "execution_count": 6,
   "metadata": {
    "ExecuteTime": {
     "end_time": "2017-10-11T01:43:59.130844Z",
     "start_time": "2017-10-11T01:43:59.112915Z"
    }
   },
   "outputs": [
    {
     "data": {
      "text/plain": [
       "(429, 78)"
      ]
     },
     "execution_count": 6,
     "metadata": {},
     "output_type": "execute_result"
    }
   ],
   "source": [
    "train_loop_count = mnist.train.num_examples // BATCH_SIZE\n",
    "test_loop_count  = mnist.test.num_examples // BATCH_SIZE\n",
    "\n",
    "train_loop_count, test_loop_count"
   ]
  },
  {
   "cell_type": "code",
   "execution_count": 7,
   "metadata": {
    "ExecuteTime": {
     "end_time": "2017-10-11T01:43:59.176806Z",
     "start_time": "2017-10-11T01:43:59.132888Z"
    },
    "collapsed": true
   },
   "outputs": [],
   "source": [
    "def train(inputs, labels, max_epochs, train_writer, test_writer):\n",
    "    step = 0\n",
    "    for ep in range(max_epochs):\n",
    "\n",
    "        train_elapsed = []\n",
    "        train_losses = []\n",
    "        train_accuracy = []\n",
    "        for i in range(train_loop_count):\n",
    "            t_start     = time.time()\n",
    "            offs        = i * BATCH_SIZE\n",
    "            batch_input = \\\n",
    "                    mnist.train.images[offs:offs+BATCH_SIZE,:]\n",
    "            batch_input = \\\n",
    "                    batch_input.reshape(\n",
    "                            [BATCH_SIZE,\n",
    "                               MAX_SEQ_LEN,\n",
    "                               INPUT_UNITS])\n",
    "            batch_label = \\\n",
    "                    mnist.train.labels[offs:offs+BATCH_SIZE]\n",
    "            optimize, loss, accuracy, _ = \\\n",
    "                sess.run([model.optimize,\n",
    "                          model.loss,\n",
    "                          model.accuracy,\n",
    "                          model.check],\n",
    "                         feed_dict = {\n",
    "                          inputs: batch_input,\n",
    "                          labels: batch_label })\n",
    "            train_losses.append(loss)\n",
    "            train_accuracy.append(accuracy)\n",
    "            t_elapsed   = time.time() - t_start\n",
    "            train_elapsed.append(t_elapsed)\n",
    "\n",
    "            step += 1\n",
    "            summary = tf.Summary(\n",
    "                value=[\n",
    "                    tf.Summary.Value(\n",
    "                        tag='train_accuracy',\n",
    "                        simple_value=accuracy\n",
    "                    ),\n",
    "                    tf.Summary.Value(\n",
    "                        tag='loss',\n",
    "                        simple_value=loss\n",
    "                    ),\n",
    "                ]\n",
    "            )\n",
    "            train_writer.add_summary(summary,global_step=step)\n",
    "\n",
    "            if step % 250 == 0:\n",
    "                print(('[trn] ep {:d}, step {:d}, ' + \n",
    "                       'loss {:f}, accu {:f}, ' + \n",
    "                       'sec/iter {:f}').format(\n",
    "                    ep + 1,\n",
    "                    step,\n",
    "                    np.mean(train_losses),\n",
    "                    np.amin(train_accuracy),\n",
    "                    np.mean(train_elapsed)))\n",
    "                train_losses = []\n",
    "                train_accuracy = []\n",
    "                train_elapsed = []\n",
    "                \n",
    "        train_writer.flush()\n",
    "\n",
    "        test_elapsed  = []\n",
    "        test_accuracy = []\n",
    "        \n",
    "        for i in range(test_loop_count):\n",
    "            t_start     = time.time()\n",
    "            offs        = i * BATCH_SIZE\n",
    "            batch_input = mnist.test.images[offs:offs+BATCH_SIZE,:]\n",
    "            batch_input = batch_input.reshape(\n",
    "                            [BATCH_SIZE,\n",
    "                               MAX_SEQ_LEN,\n",
    "                               INPUT_UNITS])\n",
    "            batch_label = mnist.test.labels[offs:offs+BATCH_SIZE]\n",
    "            accuracy, = \\\n",
    "                sess.run([model.accuracy],\n",
    "                         feed_dict = {\n",
    "                          inputs: batch_input,\n",
    "                          labels: batch_label })\n",
    "            test_accuracy.append(accuracy)\n",
    "            t_elapsed   = time.time() - t_start\n",
    "            test_elapsed.append(t_elapsed)\n",
    "\n",
    "            step += 1\n",
    "            \n",
    "        if len(test_accuracy) > 0:\n",
    "            print(('[tst] ep {:d}, step {:d}, ' +\n",
    "                   'accu {:f}, sec/iter {:f}').format(\n",
    "                ep + 1,\n",
    "                step,\n",
    "                np.amin(test_accuracy),\n",
    "                np.mean(test_elapsed)))\n",
    "\n",
    "            summary = tf.Summary(\n",
    "                value=[\n",
    "                    tf.Summary.Value(\n",
    "                        tag='test_accuracy',\n",
    "                        simple_value=np.amin(test_accuracy)\n",
    "                    ),\n",
    "                ]\n",
    "            )\n",
    "            test_writer.add_summary(summary,global_step=step)\n",
    "            test_writer.flush()\n"
   ]
  },
  {
   "cell_type": "markdown",
   "metadata": {},
   "source": [
    "## Test #1 - Vanila RNN"
   ]
  },
  {
   "cell_type": "markdown",
   "metadata": {},
   "source": [
    "<div  style=\"border:1px solid black;border-radius:5px\">\n",
    "<code>\n",
    "    cell = tf.contrib.rnn.BasicRNNCell(num_hidden_units)\n",
    "\n",
    "</code>\n",
    "</div>"
   ]
  },
  {
   "cell_type": "code",
   "execution_count": 8,
   "metadata": {
    "ExecuteTime": {
     "end_time": "2017-10-11T01:43:59.374131Z",
     "start_time": "2017-10-11T01:43:59.177907Z"
    },
    "collapsed": true
   },
   "outputs": [],
   "source": [
    "tf.reset_default_graph()\n",
    "\n",
    "inputs_ = tf.placeholder(tf.float32,\n",
    "                         [BATCH_SIZE, MAX_SEQ_LEN, INPUT_UNITS],\n",
    "                         name='inputs')\n",
    "labels_ = tf.placeholder(tf.int64,\n",
    "                         [BATCH_SIZE],\n",
    "                         name='labels')\n",
    "\n",
    "\n",
    "model = MnistRnn(inputs_,\n",
    "                 labels_,\n",
    "                 INPUT_UNITS,\n",
    "                 NUM_HIDDEN_UNITS,\n",
    "                 BATCH_SIZE,\n",
    "                 MAX_SEQ_LEN,\n",
    "                 tf.contrib.rnn.BasicRNNCell)"
   ]
  },
  {
   "cell_type": "code",
   "execution_count": 9,
   "metadata": {
    "ExecuteTime": {
     "end_time": "2017-10-11T01:44:33.035095Z",
     "start_time": "2017-10-11T01:43:59.375590Z"
    }
   },
   "outputs": [
    {
     "name": "stdout",
     "output_type": "stream",
     "text": [
      "[trn] ep 1, step 250, loss 1.550250, accu 0.085938, sec/iter 0.007951\n",
      "[tst] ep 1, step 507, accu 0.468750, sec/iter 0.002797\n",
      "[trn] ep 2, step 750, loss 0.987132, accu 0.562500, sec/iter 0.007306\n",
      "[tst] ep 2, step 1014, accu 0.539062, sec/iter 0.002285\n",
      "[trn] ep 3, step 1250, loss 0.765099, accu 0.625000, sec/iter 0.007807\n",
      "[tst] ep 3, step 1521, accu 0.648438, sec/iter 0.004670\n",
      "[trn] ep 4, step 1750, loss 0.632159, accu 0.648438, sec/iter 0.007768\n",
      "[tst] ep 4, step 2028, accu 0.656250, sec/iter 0.003359\n",
      "[trn] ep 5, step 2250, loss 0.562881, accu 0.664062, sec/iter 0.009445\n",
      "[tst] ep 5, step 2535, accu 0.671875, sec/iter 0.005474\n",
      "[trn] ep 6, step 2750, loss 0.504307, accu 0.695312, sec/iter 0.008914\n",
      "[tst] ep 6, step 3042, accu 0.679688, sec/iter 0.003352\n",
      "[trn] ep 7, step 3250, loss 0.462129, accu 0.718750, sec/iter 0.009098\n",
      "[tst] ep 7, step 3549, accu 0.664062, sec/iter 0.005065\n",
      "[trn] ep 8, step 3750, loss 0.429448, accu 0.757812, sec/iter 0.009314\n",
      "[tst] ep 8, step 4056, accu 0.710938, sec/iter 0.003061\n",
      "[trn] ep 9, step 4250, loss 0.401605, accu 0.750000, sec/iter 0.008644\n",
      "[tst] ep 9, step 4563, accu 0.710938, sec/iter 0.004161\n",
      "[trn] ep 10, step 4750, loss 0.384211, accu 0.781250, sec/iter 0.008817\n",
      "[tst] ep 10, step 5070, accu 0.726562, sec/iter 0.003440\n"
     ]
    }
   ],
   "source": [
    "config = tf.ConfigProto(gpu_options={'allow_growth':True})\n",
    "sess = tf.InteractiveSession(config=config)\n",
    "\n",
    "tf.global_variables_initializer().run()\n",
    "\n",
    "train_writer = tf.summary.FileWriter('logdir/train_basic_rnn',\n",
    "                                     graph=tf.get_default_graph())\n",
    "test_writer  = tf.summary.FileWriter('logdir/test_basic_rnn',\n",
    "                                     graph=tf.get_default_graph())\n",
    "\n",
    "train(inputs_, labels_, 10, train_writer, test_writer)"
   ]
  },
  {
   "cell_type": "code",
   "execution_count": 10,
   "metadata": {
    "ExecuteTime": {
     "end_time": "2017-10-11T01:44:33.039767Z",
     "start_time": "2017-10-11T01:44:33.037896Z"
    },
    "collapsed": true
   },
   "outputs": [],
   "source": [
    "# !tensorboard --ip 0.0.0.0 --logdir logdir"
   ]
  },
  {
   "cell_type": "markdown",
   "metadata": {},
   "source": [
    "## Test #2 - Basic LSTM"
   ]
  },
  {
   "cell_type": "markdown",
   "metadata": {},
   "source": [
    "<div  style=\"border:1px solid black;border-radius:5px\">\n",
    "<code>\n",
    "    cell = tf.contrib.rnn.BasicLSTMCell(num_hidden_units)\n",
    "\n",
    "</code>\n",
    "</div>"
   ]
  },
  {
   "cell_type": "code",
   "execution_count": 11,
   "metadata": {
    "ExecuteTime": {
     "end_time": "2017-10-11T01:44:33.355948Z",
     "start_time": "2017-10-11T01:44:33.041174Z"
    },
    "collapsed": true
   },
   "outputs": [],
   "source": [
    "tf.reset_default_graph()\n",
    "\n",
    "inputs_ = tf.placeholder(tf.float32,\n",
    "                         [BATCH_SIZE, MAX_SEQ_LEN, INPUT_UNITS],\n",
    "                         name='inputs')\n",
    "labels_ = tf.placeholder(tf.int64,\n",
    "                         [BATCH_SIZE],\n",
    "                         name='labels')\n",
    "\n",
    "model = MnistRnn(inputs_,\n",
    "                 labels_,\n",
    "                 INPUT_UNITS,\n",
    "                 NUM_HIDDEN_UNITS,\n",
    "                 BATCH_SIZE,\n",
    "                 MAX_SEQ_LEN,\n",
    "                 tf.contrib.rnn.BasicLSTMCell)"
   ]
  },
  {
   "cell_type": "code",
   "execution_count": 12,
   "metadata": {
    "ExecuteTime": {
     "end_time": "2017-10-11T01:45:27.240346Z",
     "start_time": "2017-10-11T01:44:33.357197Z"
    }
   },
   "outputs": [
    {
     "name": "stdout",
     "output_type": "stream",
     "text": [
      "[trn] ep 1, step 250, loss 1.499541, accu 0.039062, sec/iter 0.013030\n",
      "[tst] ep 1, step 507, accu 0.695312, sec/iter 0.005082\n",
      "[trn] ep 2, step 750, loss 0.469044, accu 0.671875, sec/iter 0.013055\n",
      "[tst] ep 2, step 1014, accu 0.796875, sec/iter 0.004687\n",
      "[trn] ep 3, step 1250, loss 0.304381, accu 0.773438, sec/iter 0.013056\n",
      "[tst] ep 3, step 1521, accu 0.851562, sec/iter 0.006747\n",
      "[trn] ep 4, step 1750, loss 0.228537, accu 0.835938, sec/iter 0.013932\n",
      "[tst] ep 4, step 2028, accu 0.867188, sec/iter 0.005018\n",
      "[trn] ep 5, step 2250, loss 0.196097, accu 0.843750, sec/iter 0.012640\n",
      "[tst] ep 5, step 2535, accu 0.867188, sec/iter 0.004851\n",
      "[trn] ep 6, step 2750, loss 0.166952, accu 0.882812, sec/iter 0.012917\n",
      "[tst] ep 6, step 3042, accu 0.875000, sec/iter 0.004824\n",
      "[trn] ep 7, step 3250, loss 0.147182, accu 0.898438, sec/iter 0.014815\n",
      "[tst] ep 7, step 3549, accu 0.867188, sec/iter 0.005175\n",
      "[trn] ep 8, step 3750, loss 0.133158, accu 0.906250, sec/iter 0.013107\n",
      "[tst] ep 8, step 4056, accu 0.867188, sec/iter 0.005694\n",
      "[trn] ep 9, step 4250, loss 0.119845, accu 0.914062, sec/iter 0.013864\n",
      "[tst] ep 9, step 4563, accu 0.906250, sec/iter 0.005666\n",
      "[trn] ep 10, step 4750, loss 0.107291, accu 0.914062, sec/iter 0.015189\n",
      "[tst] ep 10, step 5070, accu 0.906250, sec/iter 0.004921\n"
     ]
    }
   ],
   "source": [
    "config = tf.ConfigProto(gpu_options={'allow_growth':True})\n",
    "sess = tf.InteractiveSession(config=config)\n",
    "\n",
    "tf.global_variables_initializer().run()\n",
    "\n",
    "train_writer = tf.summary.FileWriter('logdir/train_basic_lstm',\n",
    "                                     graph=tf.get_default_graph())\n",
    "test_writer  = tf.summary.FileWriter('logdir/test_basic_lstm',\n",
    "                                     graph=tf.get_default_graph())\n",
    "\n",
    "train(inputs_, labels_, 10, train_writer, test_writer)"
   ]
  },
  {
   "cell_type": "code",
   "execution_count": 13,
   "metadata": {
    "ExecuteTime": {
     "end_time": "2017-10-11T01:45:27.245995Z",
     "start_time": "2017-10-11T01:45:27.241734Z"
    },
    "collapsed": true
   },
   "outputs": [],
   "source": [
    "# !tensorboard --ip 0.0.0.0 --logdir logdir"
   ]
  },
  {
   "cell_type": "markdown",
   "metadata": {},
   "source": [
    "## Test #3 - GRU"
   ]
  },
  {
   "cell_type": "markdown",
   "metadata": {},
   "source": [
    "<div  style=\"border:1px solid black;border-radius:5px\">\n",
    "<code>\n",
    "    cell = tf.contrib.rnn.GRUCell(num_hidden_units)\n",
    "\n",
    "</code>\n",
    "</div>"
   ]
  },
  {
   "cell_type": "code",
   "execution_count": 14,
   "metadata": {
    "ExecuteTime": {
     "end_time": "2017-10-11T01:45:27.507269Z",
     "start_time": "2017-10-11T01:45:27.247209Z"
    },
    "collapsed": true
   },
   "outputs": [],
   "source": [
    "tf.reset_default_graph()\n",
    "\n",
    "inputs_ = tf.placeholder(tf.float32,\n",
    "                         [BATCH_SIZE, MAX_SEQ_LEN, INPUT_UNITS],\n",
    "                         name='inputs')\n",
    "labels_ = tf.placeholder(tf.int64,\n",
    "                         [BATCH_SIZE],\n",
    "                         name='labels')\n",
    "\n",
    "model = MnistRnn(inputs_,\n",
    "                 labels_,\n",
    "                 INPUT_UNITS,\n",
    "                 NUM_HIDDEN_UNITS,\n",
    "                 BATCH_SIZE,\n",
    "                 MAX_SEQ_LEN,\n",
    "                 tf.contrib.rnn.GRUCell)"
   ]
  },
  {
   "cell_type": "code",
   "execution_count": 15,
   "metadata": {
    "ExecuteTime": {
     "end_time": "2017-10-11T01:46:35.020098Z",
     "start_time": "2017-10-11T01:45:27.511267Z"
    }
   },
   "outputs": [
    {
     "name": "stdout",
     "output_type": "stream",
     "text": [
      "[trn] ep 1, step 250, loss 1.550183, accu 0.117188, sec/iter 0.014488\n",
      "[tst] ep 1, step 507, accu 0.679688, sec/iter 0.005059\n",
      "[trn] ep 2, step 750, loss 0.464381, accu 0.703125, sec/iter 0.014379\n",
      "[tst] ep 2, step 1014, accu 0.820312, sec/iter 0.004900\n",
      "[trn] ep 3, step 1250, loss 0.284551, accu 0.820312, sec/iter 0.014348\n",
      "[tst] ep 3, step 1521, accu 0.859375, sec/iter 0.004766\n",
      "[trn] ep 4, step 1750, loss 0.216922, accu 0.828125, sec/iter 0.015113\n",
      "[tst] ep 4, step 2028, accu 0.882812, sec/iter 0.004711\n",
      "[trn] ep 5, step 2250, loss 0.180984, accu 0.851562, sec/iter 0.014021\n",
      "[tst] ep 5, step 2535, accu 0.890625, sec/iter 0.005294\n",
      "[trn] ep 6, step 2750, loss 0.158896, accu 0.835938, sec/iter 0.015809\n",
      "[tst] ep 6, step 3042, accu 0.882812, sec/iter 0.004615\n",
      "[trn] ep 7, step 3250, loss 0.140687, accu 0.875000, sec/iter 0.015920\n",
      "[tst] ep 7, step 3549, accu 0.890625, sec/iter 0.007297\n",
      "[trn] ep 8, step 3750, loss 0.126121, accu 0.898438, sec/iter 0.018148\n",
      "[tst] ep 8, step 4056, accu 0.906250, sec/iter 0.005170\n",
      "[trn] ep 9, step 4250, loss 0.115712, accu 0.914062, sec/iter 0.013839\n",
      "[tst] ep 9, step 4563, accu 0.906250, sec/iter 0.004460\n",
      "[trn] ep 10, step 4750, loss 0.106273, accu 0.914062, sec/iter 0.013993\n",
      "[tst] ep 10, step 5070, accu 0.906250, sec/iter 0.004573\n"
     ]
    }
   ],
   "source": [
    "config = tf.ConfigProto(gpu_options={'allow_growth':True})\n",
    "sess = tf.InteractiveSession(config=config)\n",
    "\n",
    "tf.global_variables_initializer().run()\n",
    "\n",
    "train_writer = tf.summary.FileWriter(\n",
    "                'logdir/train_gru',\n",
    "                graph=tf.get_default_graph())\n",
    "test_writer  = tf.summary.FileWriter(\n",
    "                'logdir/test_gru',\n",
    "                graph=tf.get_default_graph())\n",
    "\n",
    "train(inputs_, labels_, 10, train_writer, test_writer)"
   ]
  },
  {
   "cell_type": "code",
   "execution_count": 16,
   "metadata": {
    "ExecuteTime": {
     "end_time": "2017-10-11T01:46:35.024064Z",
     "start_time": "2017-10-11T01:46:35.021786Z"
    },
    "collapsed": true,
    "scrolled": true
   },
   "outputs": [],
   "source": [
    "# !tensorboard --ip 0.0.0.0 --logdir logdir"
   ]
  },
  {
   "cell_type": "markdown",
   "metadata": {},
   "source": [
    "## Test #4 - LSTMCell + forget_bias"
   ]
  },
  {
   "cell_type": "markdown",
   "metadata": {},
   "source": [
    "<div  style=\"border:1px solid black;border-radius:5px\">\n",
    "<code>\n",
    "    cell = tf.contrib.rnn.BasicLSTMCell(\n",
    "            num_hidden_units,\n",
    "            forget_bias=lstm_forget_bias)\n",
    " \n",
    "</code>\n",
    "</div>"
   ]
  },
  {
   "cell_type": "code",
   "execution_count": 17,
   "metadata": {
    "ExecuteTime": {
     "end_time": "2017-10-11T01:46:35.280890Z",
     "start_time": "2017-10-11T01:46:35.025235Z"
    },
    "collapsed": true
   },
   "outputs": [],
   "source": [
    "tf.reset_default_graph()\n",
    "\n",
    "inputs_ = tf.placeholder(tf.float32,\n",
    "                         [BATCH_SIZE, MAX_SEQ_LEN, INPUT_UNITS],\n",
    "                         name='inputs')\n",
    "labels_ = tf.placeholder(tf.int64,\n",
    "                         [BATCH_SIZE],\n",
    "                         name='labels')\n",
    "\n",
    "lstm_with_forget_bias = lambda num_hidden_units: \\\n",
    "    tf.contrib.rnn.BasicLSTMCell(\n",
    "            num_hidden_units,\n",
    "            forget_bias=5.0)\n",
    "\n",
    "model = MnistRnn(inputs_,\n",
    "                 labels_,\n",
    "                 INPUT_UNITS,\n",
    "                 NUM_HIDDEN_UNITS,\n",
    "                 BATCH_SIZE,\n",
    "                 MAX_SEQ_LEN,\n",
    "                 lstm_with_forget_bias)"
   ]
  },
  {
   "cell_type": "code",
   "execution_count": 18,
   "metadata": {
    "ExecuteTime": {
     "end_time": "2017-10-11T01:46:35.426498Z",
     "start_time": "2017-10-11T01:46:35.282167Z"
    },
    "collapsed": true
   },
   "outputs": [],
   "source": [
    "config = tf.ConfigProto(gpu_options={'allow_growth':True})\n",
    "sess = tf.InteractiveSession(config=config)\n",
    "\n",
    "tf.global_variables_initializer().run()\n",
    "\n",
    "train_writer = tf.summary.FileWriter('logdir/train_lstm_forget_bias',\n",
    "                                     graph=tf.get_default_graph())\n",
    "test_writer  = tf.summary.FileWriter('logdir/test_lstm_forget_bias',\n",
    "                                     graph=tf.get_default_graph())"
   ]
  },
  {
   "cell_type": "code",
   "execution_count": 19,
   "metadata": {
    "ExecuteTime": {
     "end_time": "2017-10-11T01:46:37.109460Z",
     "start_time": "2017-10-11T01:46:35.427849Z"
    }
   },
   "outputs": [
    {
     "name": "stdout",
     "output_type": "stream",
     "text": [
      "[trn] ep 1, step 250, loss 1.470503, accu 0.054688, sec/iter 0.013168\n",
      "[tst] ep 1, step 507, accu 0.617188, sec/iter 0.005363\n",
      "[trn] ep 2, step 750, loss 0.543548, accu 0.664062, sec/iter 0.013188\n",
      "[tst] ep 2, step 1014, accu 0.703125, sec/iter 0.007593\n",
      "[trn] ep 3, step 1250, loss 0.369156, accu 0.757812, sec/iter 0.015381\n",
      "[tst] ep 3, step 1521, accu 0.796875, sec/iter 0.005513\n",
      "[trn] ep 4, step 1750, loss 0.286988, accu 0.828125, sec/iter 0.013617\n",
      "[tst] ep 4, step 2028, accu 0.820312, sec/iter 0.005127\n",
      "[trn] ep 5, step 2250, loss 0.240008, accu 0.851562, sec/iter 0.015156\n",
      "[tst] ep 5, step 2535, accu 0.835938, sec/iter 0.005836\n",
      "[trn] ep 6, step 2750, loss 0.208887, accu 0.867188, sec/iter 0.013542\n",
      "[tst] ep 6, step 3042, accu 0.859375, sec/iter 0.005498\n",
      "[trn] ep 7, step 3250, loss 0.183400, accu 0.882812, sec/iter 0.015910\n",
      "[tst] ep 7, step 3549, accu 0.851562, sec/iter 0.007850\n",
      "[trn] ep 8, step 3750, loss 0.164586, accu 0.882812, sec/iter 0.014953\n",
      "[tst] ep 8, step 4056, accu 0.867188, sec/iter 0.006749\n",
      "[trn] ep 9, step 4250, loss 0.149524, accu 0.890625, sec/iter 0.015110\n",
      "[tst] ep 9, step 4563, accu 0.882812, sec/iter 0.006931\n",
      "[trn] ep 10, step 4750, loss 0.136078, accu 0.898438, sec/iter 0.015293\n",
      "[tst] ep 10, step 5070, accu 0.898438, sec/iter 0.008359\n"
     ]
    }
   ],
   "source": [
    "train(inputs_, labels_, 10, train_writer, test_writer)"
   ]
  },
  {
   "cell_type": "code",
   "execution_count": 20,
   "metadata": {
    "ExecuteTime": {
     "end_time": "2017-10-11T01:46:37.110530Z",
     "start_time": "2017-10-11T01:43:56.832Z"
    },
    "collapsed": true
   },
   "outputs": [],
   "source": [
    "# !tensorboard --ip 0.0.0.0 --logdir logdir"
   ]
  },
  {
   "cell_type": "markdown",
   "metadata": {},
   "source": [
    "## Test #5 - LayerNormBasicLSTMCell"
   ]
  },
  {
   "cell_type": "markdown",
   "metadata": {},
   "source": [
    "<div  style=\"border:1px solid black;border-radius:5px\">\n",
    "<code>\n",
    "    cell = tf.contrib.rnn.LayerNormBasicLSTMCell(\n",
    "                        num_hidden_units)\n",
    " \n",
    "</code>\n",
    "</div>"
   ]
  },
  {
   "cell_type": "code",
   "execution_count": 21,
   "metadata": {
    "ExecuteTime": {
     "end_time": "2017-10-11T01:46:37.111369Z",
     "start_time": "2017-10-11T01:43:56.834Z"
    },
    "collapsed": true
   },
   "outputs": [],
   "source": [
    "tf.reset_default_graph()\n",
    "\n",
    "inputs_ = tf.placeholder(tf.float32,\n",
    "                         [BATCH_SIZE, MAX_SEQ_LEN, INPUT_UNITS],\n",
    "                         name='inputs')\n",
    "labels_ = tf.placeholder(tf.int64,\n",
    "                         [BATCH_SIZE],\n",
    "                         name='labels')\n",
    "\n",
    "model = MnistRnn(inputs_,\n",
    "                 labels_,\n",
    "                 INPUT_UNITS,\n",
    "                 NUM_HIDDEN_UNITS,\n",
    "                 BATCH_SIZE,\n",
    "                 MAX_SEQ_LEN,\n",
    "                 tf.contrib.rnn.LayerNormBasicLSTMCell)"
   ]
  },
  {
   "cell_type": "code",
   "execution_count": 22,
   "metadata": {
    "ExecuteTime": {
     "end_time": "2017-10-11T01:46:37.112184Z",
     "start_time": "2017-10-11T01:43:56.835Z"
    }
   },
   "outputs": [
    {
     "name": "stdout",
     "output_type": "stream",
     "text": [
      "[trn] ep 1, step 250, loss nan, accu 0.039062, sec/iter 0.063241\n",
      "[tst] ep 1, step 507, accu 0.054688, sec/iter 0.011702\n"
     ]
    }
   ],
   "source": [
    "config = tf.ConfigProto(gpu_options={'allow_growth':True})\n",
    "sess = tf.InteractiveSession(config=config)\n",
    "\n",
    "tf.global_variables_initializer().run()\n",
    "\n",
    "train_writer = tf.summary.FileWriter('logdir/train_ln_basic_lstm',\n",
    "                                     graph=tf.get_default_graph())\n",
    "test_writer  = tf.summary.FileWriter('logdir/test_ln_basic_lstm',\n",
    "                                     graph=tf.get_default_graph())\n",
    "\n",
    "train(inputs_, labels_, 1, train_writer, test_writer)"
   ]
  },
  {
   "cell_type": "code",
   "execution_count": 23,
   "metadata": {
    "ExecuteTime": {
     "end_time": "2017-10-11T01:46:37.113537Z",
     "start_time": "2017-10-11T01:43:56.836Z"
    },
    "collapsed": true
   },
   "outputs": [],
   "source": [
    "# !tensorboard --ip 0.0.0.0 --logdir logdir"
   ]
  },
  {
   "cell_type": "markdown",
   "metadata": {},
   "source": [
    "## Test #6 - LayerNormBasicLSTMCell - what's wrong?"
   ]
  },
  {
   "cell_type": "markdown",
   "metadata": {},
   "source": [
    "- [`tf.check_numerics()`](http://devdocs.io/tensorflow~python/tf/check_numerics)\n",
    "> When run, reports an `InvalidArgument` error if tensor has any values that are not a number (NaN) or infinity (Inf). Otherwise, passes tensor as-is.\n",
    "\n",
    "```\n",
    "    check_numerics(\n",
    "        tensor,\n",
    "        message,\n",
    "        name=None\n",
    "    )\n",
    "```\n",
    "\n",
    "\n",
    "- [`tf.gradients()`](http://devdocs.io/tensorflow~python/tf/gradients)\n",
    "> Constructs symbolic partial derivatives of sum of `ys` w.r.t. x in `xs`\n",
    "\n",
    "```\n",
    "    gradients(\n",
    "        ys,\n",
    "        xs,\n",
    "        grad_ys=None,\n",
    "        name='gradients',\n",
    "        colocate_gradients_with_ops=False,\n",
    "        gate_gradients=False,\n",
    "        aggregation_method=None\n",
    "    )\n",
    "```\n",
    "\n",
    "\n",
    "- 사용 예:\n",
    "```\n",
    "    # check_numerics\n",
    "    self.check = [tf.check_numerics(t,\n",
    "                    'check_numerics: {}'.format(t.name)) \\\n",
    "                  for t in tf.gradients(\n",
    "                              loss,\n",
    "                              tf.trainable_variables()) \\\n",
    "                  if t is not None]\n",
    "    ...\n",
    "    summary, optimize, loss, accuracy, _ = \\\n",
    "        sess.run([model.train_summary,\n",
    "                  model.optimize,\n",
    "                  model.loss,\n",
    "                  model.accuracy,\n",
    "                  model.check],\n",
    "                  ...\n",
    "```\n"
   ]
  },
  {
   "cell_type": "code",
   "execution_count": 24,
   "metadata": {
    "ExecuteTime": {
     "end_time": "2017-10-11T01:46:37.114353Z",
     "start_time": "2017-10-11T01:43:56.838Z"
    },
    "collapsed": true
   },
   "outputs": [],
   "source": [
    "tf.reset_default_graph()\n",
    "\n",
    "inputs_ = tf.placeholder(tf.float32,\n",
    "                         [BATCH_SIZE, MAX_SEQ_LEN, INPUT_UNITS],\n",
    "                         name='inputs')\n",
    "labels_ = tf.placeholder(tf.int64,\n",
    "                         [BATCH_SIZE],\n",
    "                         name='labels')\n",
    "\n",
    "model = MnistRnn(inputs_,\n",
    "                 labels_,\n",
    "                 INPUT_UNITS,\n",
    "                 NUM_HIDDEN_UNITS,\n",
    "                 BATCH_SIZE,\n",
    "                 MAX_SEQ_LEN,\n",
    "                 tf.contrib.rnn.LayerNormBasicLSTMCell,\n",
    "                 add_check = True)\n",
    "\n",
    "# 여기서 NaN 문제가 생기는 걸 확인했으면, 다음 방법들을 시도 해 보세요\n",
    "#  1. learning_rate 를 줄여\n",
    "#       e.g.: lr = 0.0001\n",
    "#  2. 적당한 값으로 gradient clipping\n",
    "#       e.g.: use_grad_clip = True\n",
    "#  3. 사용한 컴퍼넌트에 smoothing 할 수 있는 파라메터가 있는지 확인하고 적용\n",
    "#     rnn_cell_class = lambda num_hidden_units: \\\n",
    "#        tf.contrib.rnn.LayerNormBasicLSTMCell(\n",
    "#                             num_hidden_units,\n",
    "#                             norm_gain=0.85,\n",
    "#                             norm_shift=0.15)"
   ]
  },
  {
   "cell_type": "code",
   "execution_count": null,
   "metadata": {
    "ExecuteTime": {
     "end_time": "2017-10-11T01:46:37.115061Z",
     "start_time": "2017-10-11T01:43:56.840Z"
    },
    "scrolled": false
   },
   "outputs": [],
   "source": [
    "config = tf.ConfigProto(gpu_options={'allow_growth':True})\n",
    "sess = tf.InteractiveSession(config=config)\n",
    "\n",
    "tf.global_variables_initializer().run()\n",
    "\n",
    "train_writer = tf.summary.FileWriter(\n",
    "                'logdir/train_ln_basic_lstm_2',\n",
    "                graph=tf.get_default_graph())\n",
    "test_writer  = tf.summary.FileWriter(\n",
    "                'logdir/test_ln_basic_lstm_2',\n",
    "                graph=tf.get_default_graph())\n",
    "\n",
    "train(inputs_, labels_, 10, train_writer, test_writer)"
   ]
  },
  {
   "cell_type": "markdown",
   "metadata": {},
   "source": [
    "<div style=\"padding:5px;border:1px solid black;border-radius:5px\">\n",
    "```\n",
    "InvalidArgumentError: check_numerics: gradients_1/rnn/while/rnn/layer_norm_basic_lstm_cell/state_1/batchnorm/sub/Enter_grad/b_acc_3:0 : Tensor had NaN values\n",
    "\t [[Node: CheckNumerics_10 = CheckNumerics[T=DT_FLOAT, message=\"check_numerics: gradients_1/rnn/while/rnn/layer_norm_basic_lstm_cell/state_1/batchnorm/sub/Enter_grad/b_acc_3:0\", _device=\"/job:localhost/replica:0/task:0/cpu:0\"](gradients_1/rnn/while/rnn/layer_norm_basic_lstm_cell/state_1/batchnorm/sub/Enter_grad/b_acc_3)]]\n",
    "\n",
    "\n",
    "```\n",
    "</div>"
   ]
  },
  {
   "cell_type": "code",
   "execution_count": 26,
   "metadata": {
    "ExecuteTime": {
     "end_time": "2017-10-11T01:46:37.115761Z",
     "start_time": "2017-10-11T01:43:56.841Z"
    },
    "collapsed": true
   },
   "outputs": [],
   "source": [
    "# !tensorboard --ip 0.0.0.0 --logdir logdir"
   ]
  },
  {
   "cell_type": "code",
   "execution_count": 27,
   "metadata": {
    "ExecuteTime": {
     "end_time": "2017-10-11T01:46:37.116354Z",
     "start_time": "2017-10-11T01:43:56.843Z"
    },
    "collapsed": true
   },
   "outputs": [],
   "source": [
    "tf.reset_default_graph()\n",
    "\n",
    "inputs_ = tf.placeholder(tf.float32,\n",
    "                         [BATCH_SIZE, MAX_SEQ_LEN, INPUT_UNITS],\n",
    "                         name='inputs')\n",
    "labels_ = tf.placeholder(tf.int64,\n",
    "                         [BATCH_SIZE],\n",
    "                         name='labels')\n",
    "\n",
    "model = MnistRnn(inputs_,\n",
    "                 labels_,\n",
    "                 INPUT_UNITS,\n",
    "                 NUM_HIDDEN_UNITS,\n",
    "                 BATCH_SIZE,\n",
    "                 MAX_SEQ_LEN,\n",
    "                 lambda num_hidden_units: \\\n",
    "                       tf.contrib.rnn.LayerNormBasicLSTMCell(\n",
    "                                            num_hidden_units,\n",
    "                                            norm_gain=0.85,\n",
    "                                            norm_shift=0.15),\n",
    "                 add_check = True,\n",
    "                 lr = 0.0001,\n",
    "                 use_grad_clip = True)"
   ]
  },
  {
   "cell_type": "code",
   "execution_count": 28,
   "metadata": {
    "ExecuteTime": {
     "end_time": "2017-10-11T01:46:37.116956Z",
     "start_time": "2017-10-11T01:43:56.844Z"
    },
    "scrolled": false
   },
   "outputs": [
    {
     "name": "stdout",
     "output_type": "stream",
     "text": [
      "[trn] ep 1, step 250, loss 2.108183, accu 0.046875, sec/iter 0.104071\n",
      "[tst] ep 1, step 507, accu 0.421875, sec/iter 0.012975\n",
      "[trn] ep 2, step 750, loss 1.525936, accu 0.429688, sec/iter 0.104317\n",
      "[tst] ep 2, step 1014, accu 0.515625, sec/iter 0.009750\n",
      "[trn] ep 3, step 1250, loss 1.210164, accu 0.539062, sec/iter 0.103209\n",
      "[tst] ep 3, step 1521, accu 0.601562, sec/iter 0.008972\n",
      "[trn] ep 4, step 1750, loss 0.963128, accu 0.632812, sec/iter 0.088096\n",
      "[tst] ep 4, step 2028, accu 0.671875, sec/iter 0.008804\n",
      "[trn] ep 5, step 2250, loss 0.794114, accu 0.664062, sec/iter 0.087969\n",
      "[tst] ep 5, step 2535, accu 0.687500, sec/iter 0.010850\n",
      "[trn] ep 6, step 2750, loss 0.673972, accu 0.726562, sec/iter 0.091234\n",
      "[tst] ep 6, step 3042, accu 0.726562, sec/iter 0.008794\n",
      "[trn] ep 7, step 3250, loss 0.574158, accu 0.750000, sec/iter 0.092356\n",
      "[tst] ep 7, step 3549, accu 0.742188, sec/iter 0.008645\n",
      "[trn] ep 8, step 3750, loss 0.494440, accu 0.750000, sec/iter 0.088173\n",
      "[tst] ep 8, step 4056, accu 0.757812, sec/iter 0.008989\n",
      "[trn] ep 9, step 4250, loss 0.431050, accu 0.757812, sec/iter 0.083751\n",
      "[tst] ep 9, step 4563, accu 0.789062, sec/iter 0.008605\n",
      "[trn] ep 10, step 4750, loss 0.378663, accu 0.765625, sec/iter 0.085223\n",
      "[tst] ep 10, step 5070, accu 0.804688, sec/iter 0.008551\n"
     ]
    }
   ],
   "source": [
    "config = tf.ConfigProto(gpu_options={'allow_growth':True})\n",
    "sess = tf.InteractiveSession(config=config)\n",
    "\n",
    "tf.global_variables_initializer().run()\n",
    "\n",
    "train_writer = tf.summary.FileWriter(\n",
    "                'logdir/train_ln_basic_lstm_2',\n",
    "                graph=tf.get_default_graph())\n",
    "test_writer  = tf.summary.FileWriter(\n",
    "                'logdir/test_ln_basic_lstm_2',\n",
    "                graph=tf.get_default_graph())\n",
    "\n",
    "train(inputs_, labels_, 10, train_writer, test_writer)"
   ]
  },
  {
   "cell_type": "markdown",
   "metadata": {},
   "source": [
    "## 정리해 봅시다\n",
    "\n",
    "### 텐서플로우에서 지원하는 RNN Cell 유형\n",
    "\n",
    "- [`tf.contrib.rnn.BasicRNNCell()`](http://devdocs.io/tensorflow~python/tf/contrib/rnn/basicrnncell)\n",
    "\n",
    "- [`tf.contrib.rnn.BasicLSTMCell()`](http://devdocs.io/tensorflow~python/tf/contrib/rnn/basiclstmcell)\n",
    "\n",
    "- [`tf.contrib.rnn.LSTMCell()`](http://devdocs.io/tensorflow~python/tf/contrib/rnn/lstmcell)\n",
    "\n",
    "- [`tf.contrib.rnn.GRUCell()`](http://devdocs.io/tensorflow~python/tf/contrib/rnn/grucell)\n",
    "\n",
    "- [`tf.contrib.rnn.LayerNormBasicLSTMCell()`](http://devdocs.io/tensorflow~python/tf/contrib/rnn/layernormbasiclstmcell)\n",
    "\n",
    "\n",
    "### RNN 구성\n",
    "\n",
    "- [`tf.nn.dynamic_rnn()`](http://devdocs.io/tensorflow~python/tf/nn/dynamic_rnn)\n",
    "```\n",
    "    cell         = tf.contrib.rnn.BasicRNNCell(\n",
    "                    num_hidden_units)\n",
    "    last, states = tf.nn.dynamic_rnn(\n",
    "                        cell, \n",
    "                        inputs, \n",
    "                        sequence_length=sequence_length,\n",
    "                        dtype=tf.float32)\n",
    "```\n",
    "\n",
    "\n",
    "### 실행중 NaN, Inf 등이 발생하면?\n",
    "\n",
    "1. [`tf.check_numerics()`](http://devdocs.io/tensorflow~python/tf/check_numerics)로 문제가 되는 컴퍼넌트 파악\n",
    "1. learning_rate 를 줄여본다\n",
    "1. 적당한 값으로 gradient clipping 해 본다\n",
    "1. 사용한 컴퍼넌트에 smoothing 할 수 있는 파라메터가 있는지 확인하고 적용해 본다\n",
    "\n",
    "### gradient clipping?\n",
    "\n",
    "- [`tf.clip_by_global_norm`](http://devdocs.io/tensorflow~python/tf/clip_by_global_norm)\n",
    "```\n",
    "    clip_by_global_norm(\n",
    "        t_list,\n",
    "        clip_norm,\n",
    "        use_norm=None,\n",
    "        name=None\n",
    "    )\n",
    "```\n",
    "\n",
    "- [`tf.gradients`](http://devdocs.io/tensorflow~python/tf/gradients)\n",
    "```\n",
    "    gradients(\n",
    "        ys,\n",
    "        xs,\n",
    "        grad_ys=None,\n",
    "        name='gradients',\n",
    "        colocate_gradients_with_ops=False,\n",
    "        gate_gradients=False,\n",
    "        aggregation_method=None\n",
    "    )\n",
    "```\n",
    "\n",
    "- [`optimizer.apply_gradients`](http://devdocs.io/tensorflow~python/tf/train/optimizer#apply_gradients)\n",
    "```\n",
    "    apply_gradients(\n",
    "        grads_and_vars,\n",
    "        global_step=None,\n",
    "        name=None\n",
    "    )\n",
    "```\n",
    "\n",
    "- 사용예:\n",
    "```\n",
    "    tvars_     = tf.trainable_variables()\n",
    "    grads_, _  = tf.clip_by_global_norm(\n",
    "                    tf.gradients(loss,tvars_),\n",
    "                    5.0)\n",
    "    optimize   = tf.train.AdamOptimizer(\n",
    "                    learning_rate=learning_rate) \\\n",
    "                    .apply_gradients(zip(grads_, tvars_))\n",
    "```\n"
   ]
  }
 ],
 "metadata": {
  "kernelspec": {
   "display_name": "Python 2",
   "language": "python",
   "name": "python2"
  },
  "language_info": {
   "codemirror_mode": {
    "name": "ipython",
    "version": 2
   },
   "file_extension": ".py",
   "mimetype": "text/x-python",
   "name": "python",
   "nbconvert_exporter": "python",
   "pygments_lexer": "ipython2",
   "version": "2.7.13"
  }
 },
 "nbformat": 4,
 "nbformat_minor": 2
}
